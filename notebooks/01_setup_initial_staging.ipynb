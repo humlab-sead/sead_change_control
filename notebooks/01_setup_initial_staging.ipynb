{
 "cells": [
  {
   "cell_type": "markdown",
   "metadata": {},
   "source": [
    "### Initial setup of SEAD staging database"
   ]
  },
  {
   "cell_type": "code",
   "execution_count": null,
   "metadata": {},
   "outputs": [],
   "source": [
    "import sys\n",
    "sys.path = sys.path + ['.'] if '.' not in sys.path else []\n",
    "import db\n",
    "\n",
    "# postgres = db.get_db_engine('postgres')\n",
    "staging = db.get_db_engine('sead_master_9', host='snares.humlab.umu.se')\n",
    "\n",
    "%load_ext sql_magic\n",
    "%config SQL.conn_name = 'staging'\n",
    "%config SQL.output_result = True\n",
    "%config SQL.notify_result = True\n"
   ]
  },
  {
   "cell_type": "code",
   "execution_count": null,
   "metadata": {},
   "outputs": [],
   "source": [
    "%%read_sql -c staging\n",
    "select ns.nspname, c.relname, d.description\n",
    "from pg_class c\n",
    "join pg_description d\n",
    "  on d.objoid = c.oid\n",
    "join pg_namespace ns\n",
    "  on ns.oid = c.relnamespace\n",
    "where TRUE\n",
    "  and c.relkind = 'r'\n",
    " -- and ns.nspname = 'public'\n"
   ]
  },
  {
   "cell_type": "code",
   "execution_count": null,
   "metadata": {},
   "outputs": [],
   "source": [
    "%%bash\n",
    "dbhost=`cat ~/.default.sead.server`\n",
    "dbuser=`cat ~/.default.sead.username`\n",
    "\n",
    "sql=\"\\COPY (SELECT * FROM tbl_dating_labs) TO '/tmp/tbl_dating_labs_bugs_20180503.csv' WITH (FORMAT csv, ENCODING 'utf8');\"\n",
    "\n",
    "psql --host=snares.humlab.umu.se --username=$dbuser --no-password --dbname=sead_bugs_import_20180503 --command \"$sql\"\n",
    "\n",
    "\n",
    "sql=$(cat <<EOF\n",
    "    DROP TABLE IF EXISTS tbl_dating_labs_bugs;\n",
    "    CREATE TABLE tbl_dating_labs_bugs AS SELECT * FROM tbl_dating_labs WHERE FALSE;\n",
    "EOF\n",
    ")\n",
    "psql --host=$dbhost --username=$dbuser --no-password --dbname=sead_staging --command \"$sql\"\n",
    "\n",
    "sql=\"\\COPY tbl_dating_labs_bugs FROM '/tmp/tbl_dating_labs_bugs_20180503.csv' WITH (FORMAT csv, ENCODING 'utf8');\"\n",
    "psql --host=$dbhost --username=$dbuser --no-password --dbname=sead_staging --command \"$sql\""
   ]
  },
  {
   "cell_type": "markdown",
   "metadata": {},
   "source": [
    "### Create sead_staging as a copy of sead_master_8\n",
    "This version of sead_master_8 contains only the public schema."
   ]
  },
  {
   "cell_type": "code",
   "execution_count": null,
   "metadata": {},
   "outputs": [],
   "source": [
    "%%bash\n",
    "psql --help"
   ]
  },
  {
   "cell_type": "code",
   "execution_count": null,
   "metadata": {},
   "outputs": [],
   "source": [
    "%%bash\n",
    "dbhost=`cat ~/.default.sead.server`\n",
    "dbuser=`cat ~/.default.sead.username`\n",
    "\n",
    "if [ \"$dbhost\" != \"130.239.1.181\" ]; then\n",
    "    echo \"This script can for now only be run on 130.239.1.181\";\n",
    "    exit 64\n",
    "fi\n",
    "\n",
    "echo \"$dbhost\"\n",
    "\n",
    "sql=$(cat <<EOF\n",
    "    select pg_terminate_backend(pg_stat_activity.pid)\n",
    "    from pg_stat_activity \n",
    "    where pg_stat_activity.datname in ('sead_staging', 'sead_master_9')\n",
    "      and pid <> pg_backend_pid();\n",
    "EOF\n",
    ")\n",
    "\n",
    "psql --host=$dbhost --username=$dbuser --no-password --dbname=postgres --command \"$sql\"\n",
    "\n",
    "sql='drop database if exists sead_staging;'\n",
    "psql --host=$dbhost --username=$dbuser --no-password --dbname=postgres --command \"$sql\"\n",
    "\n",
    "sql='create database sead_staging with template sead_master_9 OWNER sead_master;'\n",
    "psql --host=$dbhost --username=$dbuser --no-password --dbname=postgres --command \"$sql\""
   ]
  },
  {
   "cell_type": "markdown",
   "metadata": {},
   "source": [
    "### Apply utility change request package"
   ]
  },
  {
   "cell_type": "code",
   "execution_count": null,
   "metadata": {},
   "outputs": [],
   "source": [
    "%%bash\n",
    "#sqitch tag CS_STAGING_20190517_CREATE_DATABASE --tag v0.01 --note \"Create staging database\" --plan-file ./utility/sqitch.plan\n",
    "#sqitch tag --tag v0.1 --note \"Initial set of CRs\" --plan-file ./utility/sqitch.plan\n",
    "\n",
    "sqitch deploy --target staging --to @v0.01 --mode change --no-verify -C ./utility/\n",
    "sqitch deploy --target staging --to @v0.1 --mode change --no-verify -C ./utility/\n",
    "    "
   ]
  },
  {
   "cell_type": "markdown",
   "metadata": {},
   "source": [
    "### Apply general change request package"
   ]
  },
  {
   "cell_type": "code",
   "execution_count": null,
   "metadata": {},
   "outputs": [],
   "source": [
    "%%bash\n",
    "#sqitch tag 20170101_DDL_BIBLIO_REFACTOR_MODEL --tag v0.1 --note \"Staging DB with initial DDL changes\" --plan-file ./general/sqitch.plan\n",
    "#sqitch tag 20190513_DML_ECOCODE_ADD_GROUP_UPDATE_SYSTEM --tag v0.2--note \"Staging DB with initial DML updates\" --plan-file ./general/sqitch.plan\n",
    "\n",
    "# sqitch deploy --target staging --to @v0.1 --mode change --no-verify -C ./general/\n",
    "sqitch deploy --target staging --to @v0.2 --mode change --no-verify -C ./general/\n",
    "    "
   ]
  },
  {
   "cell_type": "code",
   "execution_count": null,
   "metadata": {},
   "outputs": [],
   "source": [
    "%%bash\n",
    "sqitch help deploy\n",
    "\n",
    "sqitch deploy --target staging --to v0.1 --mode change --no-verify -C ./utility"
   ]
  },
  {
   "cell_type": "code",
   "execution_count": null,
   "metadata": {},
   "outputs": [],
   "source": [
    "%%read_sql -c postgres\n",
    "create database sead_staging with template sead_master_9 OWNER sead_master;"
   ]
  },
  {
   "cell_type": "code",
   "execution_count": null,
   "metadata": {},
   "outputs": [],
   "source": [
    "\n",
    "print('hej')"
   ]
  },
  {
   "cell_type": "code",
   "execution_count": null,
   "metadata": {},
   "outputs": [],
   "source": []
  }
 ],
 "metadata": {
  "kernelspec": {
   "display_name": "Python 3",
   "language": "python",
   "name": "python3"
  },
  "language_info": {
   "codemirror_mode": {
    "name": "ipython",
    "version": 3
   },
   "file_extension": ".py",
   "mimetype": "text/x-python",
   "name": "python",
   "nbconvert_exporter": "python",
   "pygments_lexer": "ipython3",
   "version": "3.5.3"
  }
 },
 "nbformat": 4,
 "nbformat_minor": 2
}
