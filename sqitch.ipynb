{
 "cells": [
  {
   "cell_type": "markdown",
   "metadata": {},
   "source": [
    "### Install Sqitch Docker image\n",
    "\n",
    "Install Sqitch:\n",
    "```bash\n",
    "sudo docker pull sqitch/sqitch\n",
    "sudo curl -L https://git.io/fAX6Z -o sqitch && chmod +x sqitch\n",
    "sudo cp sqitch /usr/local/bin\n",
    "```\n",
    "\n",
    "Allow current user to run docker:\n",
    "\n",
    "```bash\n",
    "sudo groupadd docker\n",
    "sudo gpasswd -a $USER docker\n",
    "sudo usermod -aG docker $USER\n",
    "sqitch --version\n",
    "```\n",
    "\n",
    "### Install Sqitch system-wide using cpan\n",
    "\n",
    "This is used since docker install gives problems with permissions (runs under \"sqitch\" user in docker).\n",
    "```bash\n",
    "sudo apt-get install build-essential cpanminus perl perl-doc\n",
    "sudo cpanm --quiet --notest App::Sqitch\n",
    "sqitch --version\n",
    "```\n",
    "\n",
    "### Setup git project\n",
    "\n",
    "```bash\n",
    "mkdir sead_db_change_control\n",
    "cd sead_db_change_control\n",
    "git init .\n",
    "touch README.md\n",
    "git add .\n",
    "git commit -am \"SEAD db change control project inititalized\"\n",
    "```\n",
    "\n",
    "### Setup Sqitch project\n",
    "\n",
    "```bash\n",
    "sqitch init sead_db_change_control --uri https://github.com/humlab-sead/sead_db_change_control --engine pg\n",
    "sqitch config --user engine.pg.client /usr/bin/psql\n",
    "```\n"
   ]
  },
  {
   "cell_type": "code",
   "execution_count": null,
   "metadata": {},
   "outputs": [],
   "source": [
    "%%bash\n",
    "mkdir clearinghouse\n",
    "sqitch init clearinghouse --uri https://github.com/humlab-sead/clearinghouse --engine pg --top_dir ./clearinghouse --plan-file clearinghouse.plan\n"
   ]
  },
  {
   "cell_type": "code",
   "execution_count": null,
   "metadata": {},
   "outputs": [],
   "source": [
    "%%bash\n",
    "#sqitch init report --uri https://github.com/humlab-sead/report --engine pg -C ./report\n",
    "mkdir sead_api\n",
    "sqitch init sead_api --uri https://github.com/humlab-sead/sead-api --engine pg -C sead_api"
   ]
  },
  {
   "cell_type": "markdown",
   "metadata": {},
   "source": [
    "### Setup global defaults for user\n",
    "These settings are global user settings specific for each computing environment."
   ]
  },
  {
   "cell_type": "code",
   "execution_count": null,
   "metadata": {},
   "outputs": [],
   "source": [
    "%%bash\n",
    "sqitch config --user engine.pg.client /usr/bin/psql\n",
    "sqitch config --user user.name 'Roger Mähler'\n",
    "sqitch config --user user.email 'roger.mahler@umu.se'"
   ]
  },
  {
   "cell_type": "markdown",
   "metadata": {},
   "source": [
    "#### Install PostgreSQL Kernel\n",
    "```bash\n",
    "sudo pip3 install postgres_kernel\n",
    "```"
   ]
  },
  {
   "cell_type": "markdown",
   "metadata": {},
   "source": [
    "### Enable remote scp copy without passphrase\n",
    "Use rsa key instead of passwords."
   ]
  },
  {
   "cell_type": "markdown",
   "metadata": {},
   "source": [
    "On local host:<br>\n",
    "> % ssh-keygen -t rsa<br>\n",
    "> Generating public/private rsa key pair.<br>\n",
    "> Enter file in which to save the key (/home/martian/.ssh/id_rsa):<br>\n",
    "> Enter passphrase (empty for no passphrase): **blank password**<br>\n",
    "> (deleted stuff)<br>\n",
    "\n",
    "> % scp .ssh/id_rsa.pub martian@some.other.remote.host:./\n",
    "\n",
    "On remote host:<br>\n",
    "> % cat id_rsa.pub >> .ssh/authorized_keys\n"
   ]
  },
  {
   "cell_type": "markdown",
   "metadata": {},
   "source": [
    "### Setup default user templates\n",
    "These settings are global user settings specific for each computing environment."
   ]
  },
  {
   "cell_type": "code",
   "execution_count": null,
   "metadata": {},
   "outputs": [],
   "source": [
    "%%bash\n",
    "\n",
    "mkdir -p ~/.sqitch/templates/deploy\n",
    "mkdir -p ~/.sqitch/templates/revert \n",
    "mkdir -p ~/.sqitch/templates/verify\n",
    "\n",
    "tmpldir=`sqitch --etc-path`/templates\n",
    "\n",
    "cp $tmpldir/deploy/pg.tmpl ~/.sqitch/templates/deploy/pg.tmpl\n",
    "cp $tmpldir/revert/pg.tmpl ~/.sqitch/templates/revert/pg.tmpl\n",
    "cp $tmpldir/verify/pg.tmpl ~/.sqitch/templates/verify/pg.tmpl\n",
    "\n",
    "chmod -R +w ~/.sqitch/templates\n"
   ]
  },
  {
   "cell_type": "markdown",
   "metadata": {},
   "source": [
    "### Changfe default 'pg' template\n",
    "These settings are global user settings specific for each computing environment."
   ]
  },
  {
   "cell_type": "code",
   "execution_count": null,
   "metadata": {},
   "outputs": [],
   "source": [
    "%%file  ~/.sqitch/templates/deploy/pg.tmpl\n",
    "-- Deploy [% project %]:[% change %] to [% engine %]\n",
    "[% FOREACH item IN requires -%]\n",
    "-- requires: [% item %]\n",
    "[% END -%]\n",
    "[% FOREACH item IN conflicts -%]\n",
    "-- conflicts: [% item %]\n",
    "[% END -%]\n",
    "\n",
    "/****************************************************************************************************************\n",
    "  Author        Roger Mähler\n",
    "  Date          2019-01-01\n",
    "  Description   \n",
    "  Prerequisites \n",
    "  Reviewer      \n",
    "  Approver      \n",
    "  Idempotent    Yes\n",
    "  Notes\n",
    "*****************************************************************************************************************/\n",
    "\n",
    "begin;\n",
    "do $$\n",
    "begin\n",
    "\n",
    "    begin\n",
    "    \n",
    "        if sead_utility.column_exists('public'::text, 'table_name'::text, 'column_name'::text) = TRUE then\n",
    "            raise exception SQLSTATE 'GUARD';\n",
    "        end if;\n",
    "        \n",
    "        -- insert your DDL code here\n",
    "        \n",
    "    exception when sqlstate 'GUARD' then\n",
    "        raise notice 'ALREADY EXECUTED';\n",
    "    end;\n",
    "    \n",
    "end $$;\n",
    "commit;\n"
   ]
  },
  {
   "cell_type": "code",
   "execution_count": null,
   "metadata": {},
   "outputs": [],
   "source": [
    "%%bash\n",
    "dbserver=`cat ~/.default.sead.server`\n",
    "dbuser=`cat ~/.default.sead.username`\n",
    "pg_dump --file=\"test.sql\" --host=\"$dbserver\" --username=\"$dbuser\" --no-password --verbose --format=p --no-owner --no-privileges --no-tablespaces --table=\"tbl_ecocodes\" --table=\"tbl_ecocode_groups\" --dbname=\"sead_bugs_import_20170814\"\n"
   ]
  },
  {
   "cell_type": "code",
   "execution_count": 1,
   "metadata": {},
   "outputs": [],
   "source": [
    "%%bash\n",
    "#pg_dump --help"
   ]
  },
  {
   "cell_type": "code",
   "execution_count": null,
   "metadata": {},
   "outputs": [],
   "source": [
    "%%bash\n",
    "#SEAD_SERVER=`cat ~/.default.sead.server`\n",
    "#SEAD_USERNAME=`cat ~/.default.sead.username`\n",
    "\n",
    "pg_dump --file=\"ecocode_system.sql\" --host=`cat ~/.default.sead.server` --username=`cat  ~/.default.sead.username` --no-password --verbose --format=p --no-owner --no-privileges --no-tablespaces \\\n",
    "    --no-unlogged-table-data --column-inserts \\\n",
    "    --table=\"tbl_ecocodes\" --table=\"tbl_ecocode_definitions\" --table=\"tbl_ecocode_groups\" --table=\"tbl_ecocode_systems\" --dbname=\"sead_bugs_import_20170814\"\n",
    "    "
   ]
  },
  {
   "cell_type": "code",
   "execution_count": null,
   "metadata": {},
   "outputs": [],
   "source": [
    "%%bash\n",
    "#SEAD_SERVER=`cat ~/.default.sead.server`\n",
    "#SEAD_USERNAME=`cat ~/.default.sead.username`\n",
    "pg_dump --file \"tbl_abundance_elements.sql\" --host `cat ~/.default.sead.server` --username `cat  ~/.default.sead.username` --no-password \\\n",
    "    --verbose --format=p --data-only --no-privileges --no-tablespaces \\\n",
    "    --schema \"public\" --table \"tbl_abundance_elements\" \"sead_dev_clearinghouse\""
   ]
  },
  {
   "cell_type": "code",
   "execution_count": null,
   "metadata": {},
   "outputs": [],
   "source": [
    "%%bash\n",
    "psql --help"
   ]
  },
  {
   "cell_type": "code",
   "execution_count": null,
   "metadata": {},
   "outputs": [],
   "source": [
    "psql --host=`cat ~/.default.sead.server` --username=`cat  ~/.default.sead.username` --no-password --dbname=sead_dev_clearinghouse  \\\n",
    "    --verbose --no-align  --echo-all --no-psqlrc --single-line \\\n",
    "    --command \"\\copy public.tbl_abundance_elements to 'tbl_abundance_elements.sql'; \""
   ]
  },
  {
   "cell_type": "code",
   "execution_count": null,
   "metadata": {},
   "outputs": [],
   "source": [
    "import sqlalchemy\n",
    "with open('/home/roger/.default.sead.server') as f:\n",
    "    server_name = f.read()\n",
    "    #server_name = \"130.239.57.124\"\n",
    "with open('/home/roger/.default.sead.username') as f:\n",
    "    user_name = f.read()\n",
    "postgres_engine = sqlalchemy.create_engine(\"postgresql://{}:@{}/postgres\".format(user_name, server_name))\n",
    "%load_ext sql_magic\n",
    "%config SQL.conn_name = 'postgres_engine'\n",
    "%config SQL.output_result = False\n",
    "%config SQL.notify_result = True"
   ]
  },
  {
   "cell_type": "code",
   "execution_count": null,
   "metadata": {},
   "outputs": [],
   "source": [
    "import psycopg2\n",
    "conn = psycopg2.connect(\"dbname=sead_dev_clearinghouse user=humlab_admin host=snares.humlab.umu.se port=5432\")\n",
    "cur = conn.cursor()\n",
    "\n",
    "cur.execute(\"SELECT * FROM tbl_sites\")\n",
    "cur.fetchone()"
   ]
  },
  {
   "cell_type": "code",
   "execution_count": null,
   "metadata": {},
   "outputs": [],
   "source": [
    "postgres_engine.connect()"
   ]
  },
  {
   "cell_type": "code",
   "execution_count": null,
   "metadata": {},
   "outputs": [],
   "source": [
    "%%read_sql\n",
    "select *\n",
    "from information_schema.databases"
   ]
  },
  {
   "cell_type": "code",
   "execution_count": null,
   "metadata": {},
   "outputs": [],
   "source": [
    "df_tables"
   ]
  },
  {
   "cell_type": "code",
   "execution_count": null,
   "metadata": {},
   "outputs": [],
   "source": [
    "%%file rename_change.bash\n",
    "#/bin/bash\n",
    "\n",
    "function usage() {\n",
    "    echo \"usage: $0 change-name new-change-name\"\n",
    "    exit 0 \n",
    "}\n",
    "\n",
    "if [ $# != 2 ]; then\n",
    "    usage\n",
    "fi\n",
    "    \n",
    "if [ ! -f ./deploy/$1.sql ]; then\n",
    "    echo \"error: no such change file exists\"\n",
    "    exit 0 \n",
    "fi\n",
    "\n",
    "if [ -f ./deploy/$2.sql ]; then\n",
    "    echo \"error: file exists, chose another name\"\n",
    "    exit 0 \n",
    "fi\n",
    "    \n",
    "mv --force --no-clobber ./deploy/$1.sql ./deploy/$2.sql\n",
    "mv --force --no-clobber ./revert/$1.sql ./revert/$2.sql\n",
    "mv --force --no-clobber ./verify/$1.sql ./verify/$2.sql\n",
    "\n",
    "sed -i 's/$1/$2/g' sqitch.plan\n"
   ]
  },
  {
   "cell_type": "code",
   "execution_count": null,
   "metadata": {},
   "outputs": [],
   "source": [
    "%%bash\n",
    "./rename_change.bash CSR_20190406_REFACTOR_BIBLIOGRAPHIC_MODEL CSR_20170101_REFACTOR_BIBLIOGRAPHIC_MODEL"
   ]
  },
  {
   "cell_type": "markdown",
   "metadata": {},
   "source": [
    "#### Change tag format to \"CS_GROUP_YYYYMMDD_DESCRIPTION\""
   ]
  },
  {
   "cell_type": "code",
   "execution_count": null,
   "metadata": {},
   "outputs": [],
   "source": [
    "import glob\n",
    "import os\n",
    "\n",
    "paths = glob.glob('./deploy/*.sql')\n",
    "files = [ os.path.split(path)[1] for path in paths ]\n",
    "tags = [ os.path.splitext(file)[0] for file in files ]\n",
    "\n",
    "#for folder in [ 'deploy', 'revert', 'verify' ]:\n",
    "#    for tag in tags:\n",
    "#        path = os.path.join('.', folder, tag + '.sql')\n",
    "\n",
    "# [ (tag, tag) for tag in tags ]\n"
   ]
  },
  {
   "cell_type": "code",
   "execution_count": null,
   "metadata": {},
   "outputs": [],
   "source": [
    "import os\n",
    "import shutil\n",
    "\n",
    "tag_renames = [\n",
    "    ('CS_SITE_20170911_ANALYSIS_ENTITY_ALTER_AGES_PRECISION', 'CS_ANALYSIS_ENTITY_20170911_ALTER_AGES_PRECISION')\n",
    "]\n",
    "\n",
    "\n",
    "def replace_tags_in_plan(project, tags, plan_file=\"sqitch.plan\"):\n",
    "    \n",
    "    plan_path = os.path.join('.', project, plan_file)\n",
    "    \n",
    "    with open(plan_path, \"rt\") as f:\n",
    "        plan = f.read()\n",
    "    \n",
    "    for tag_old, tag_new in tags:\n",
    "        \n",
    "        plan = plan.replace(tag_old, tag_new)\n",
    "        \n",
    "        for folder in [ 'deploy', 'revert', 'verify' ]:\n",
    "            path_old = os.path.join('.', project, folder, tag_old + '.sql')\n",
    "            path_new = os.path.join('.', project, folder, tag_new + '.sql')\n",
    "            try:\n",
    "                shutil.move(path_old, path_new)\n",
    "            except:\n",
    "                pass\n",
    "        \n",
    "    with open(plan_path, \"wt\") as f:\n",
    "        f.write(plan)\n",
    "        \n",
    "    \n",
    "replace_tags_in_plan('general', tag_renames)"
   ]
  }
 ],
 "metadata": {
  "kernelspec": {
   "display_name": "Python 3",
   "language": "python",
   "name": "python3"
  },
  "language_info": {
   "codemirror_mode": {
    "name": "ipython",
    "version": 3
   },
   "file_extension": ".py",
   "mimetype": "text/x-python",
   "name": "python",
   "nbconvert_exporter": "python",
   "pygments_lexer": "ipython3",
   "version": "3.5.3"
  }
 },
 "nbformat": 4,
 "nbformat_minor": 2
}
