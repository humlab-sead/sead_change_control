{
 "cells": [
  {
   "cell_type": "markdown",
   "metadata": {},
   "source": [
    "### Create template target DB schema"
   ]
  },
  {
   "cell_type": "code",
   "execution_count": 10,
   "metadata": {},
   "outputs": [
    {
     "name": "stdout",
     "output_type": "stream",
     "text": [
      "SELECT pg_catalog.set_config('search_path', '', false)\n",
      "DROP DATABASE IF EXISTS sead_staging_bugs_empty;\n",
      "SELECT pg_catalog.set_config('search_path', '', false)\n",
      "CREATE DATABASE sead_staging_bugs_empty OWNER sead_master ENCODING 'UTF8';\n",
      " set_config \n",
      "------------\n",
      " \n",
      "(1 row)\n",
      "\n",
      "done!\n"
     ]
    },
    {
     "name": "stderr",
     "output_type": "stream",
     "text": [
      "ERROR:  unrecognized configuration parameter \"idle_in_transaction_session_timeout\"\n",
      "STATEMENT:  SET idle_in_transaction_session_timeout = 0;\n",
      "ERROR:  unrecognized configuration parameter \"row_security\"\n",
      "STATEMENT:  SET row_security = off;\n"
     ]
    }
   ],
   "source": [
    "%%bash\n",
    "#dropdb --help\n",
    "\n",
    "source_db=\"sead_bugs_import_20180503\"\n",
    "target_db=\"sead_staging_bugs_empty\"\n",
    "\n",
    "dbhost=`cat ~/.default.sead.server`\n",
    "dbuser=`cat  ~/.default.sead.username`\n",
    "\n",
    "#dbopts= --lc-collate=\"en_US.UTF-8\" --lc-ctype=\"en_US.UTF-8\"\n",
    "# --file=\"sead_production_public.sql\"  --format=p --no-tablespaces \n",
    "\n",
    "dropdb --echo --if-exists --host=$dbhost --username=$dbuser --no-password \"$target_db\"\n",
    "\n",
    "createdb --echo --owner=sead_master --host=$dbhost --username=$dbuser --no-password --encoding=\"UTF8\" \"$target_db\"\n",
    "\n",
    "pg_dump --host=$dbhost --username=$dbuser --no-password --schema public --schema-only --dbname=$source_db \\\n",
    "    | psql --echo-errors --quiet --host=$dbhost --username=$dbuser --no-password $target_db\n",
    "\n",
    "#pg_dump --host=$dbhost --username=$dbuser --no-password --schema bugs_import --schema-only --dbname=$source_db \\\n",
    "#    | psql --echo-errors --quiet --host=$dbhost --username=$dbuser --no-password $target_db\n",
    "\n",
    "psql --echo-errors --quiet --host=$dbhost --username=$dbuser --no-password --file=\"01_bugs_import_schema.psql\" $target_db\n",
    "psql --echo-errors --quiet --host=$dbhost --username=$dbuser --no-password --file=\"02_setup_bugs_import_value_translations.psql\" $target_db\n",
    "\n",
    "echo \"done!\"\n"
   ]
  },
  {
   "cell_type": "code",
   "execution_count": 8,
   "metadata": {},
   "outputs": [],
   "source": [
    "%%bash\n",
    "\n",
    "source_db=\"sead_bugs_import_20180503\"\n",
    "target_db=\"sead_staging_bugs_empty\"\n",
    "\n",
    "dbhost=`cat ~/.default.sead.server`\n",
    "dbuser=`cat  ~/.default.sead.username`\n",
    "\n",
    "db_transfer_table() {\n",
    "    pg_dump --host=$dbhost --username=$dbuser --no-password --table $1 --data-only --dbname=$source_db | psql --echo-errors --quiet --host=$dbhost --username=$dbuser --no-password $target_db\n",
    "    \n",
    "}\n",
    "\n",
    "db_exec() {\n",
    "    psql -bq -h $dbhost -U $dbuser -w -c \"$1\" $target_db\n",
    "}\n",
    "\n",
    "db_transfer_table \"tbl_record_types\"\n",
    "db_transfer_table \"tbl_taxa_tree_orders\"\n",
    "db_transfer_table \"tbl_taxa_tree_families\"\n",
    "db_transfer_table \"tbl_taxa_tree_genera\"\n",
    "db_transfer_table \"tbl_taxa_tree_authors\"\n",
    "#db_transfer_table \"tbl_taxonomic_order\"\n",
    "db_transfer_table \"tbl_taxonomic_order_systems\"\n",
    "db_transfer_table \"tbl_taxa_tree_master\"\n",
    "\n",
    "# db_exec \"alter table public.tbl_taxa_tree_families alter column order_id drop not null;\"\n"
   ]
  },
  {
   "cell_type": "code",
   "execution_count": 19,
   "metadata": {},
   "outputs": [
    {
     "name": "stdout",
     "output_type": "stream",
     "text": [
      "psql is the PostgreSQL interactive terminal.\n",
      "\n",
      "Usage:\n",
      "  psql [OPTION]... [DBNAME [USERNAME]]\n",
      "\n",
      "General options:\n",
      "  -c, --command=COMMAND    run only single command (SQL or internal) and exit\n",
      "  -d, --dbname=DBNAME      database name to connect to (default: \"roger\")\n",
      "  -f, --file=FILENAME      execute commands from file, then exit\n",
      "  -l, --list               list available databases, then exit\n",
      "  -v, --set=, --variable=NAME=VALUE\n",
      "                           set psql variable NAME to VALUE\n",
      "                           (e.g., -v ON_ERROR_STOP=1)\n",
      "  -V, --version            output version information, then exit\n",
      "  -X, --no-psqlrc          do not read startup file (~/.psqlrc)\n",
      "  -1 (\"one\"), --single-transaction\n",
      "                           execute as a single transaction (if non-interactive)\n",
      "  -?, --help[=options]     show this help, then exit\n",
      "      --help=commands      list backslash commands, then exit\n",
      "      --help=variables     list special variables, then exit\n",
      "\n",
      "Input and output options:\n",
      "  -a, --echo-all           echo all input from script\n",
      "  -b, --echo-errors        echo failed commands\n",
      "  -e, --echo-queries       echo commands sent to server\n",
      "  -E, --echo-hidden        display queries that internal commands generate\n",
      "  -L, --log-file=FILENAME  send session log to file\n",
      "  -n, --no-readline        disable enhanced command line editing (readline)\n",
      "  -o, --output=FILENAME    send query results to file (or |pipe)\n",
      "  -q, --quiet              run quietly (no messages, only query output)\n",
      "  -s, --single-step        single-step mode (confirm each query)\n",
      "  -S, --single-line        single-line mode (end of line terminates SQL command)\n",
      "\n",
      "Output format options:\n",
      "  -A, --no-align           unaligned table output mode\n",
      "  -F, --field-separator=STRING\n",
      "                           field separator for unaligned output (default: \"|\")\n",
      "  -H, --html               HTML table output mode\n",
      "  -P, --pset=VAR[=ARG]     set printing option VAR to ARG (see \\pset command)\n",
      "  -R, --record-separator=STRING\n",
      "                           record separator for unaligned output (default: newline)\n",
      "  -t, --tuples-only        print rows only\n",
      "  -T, --table-attr=TEXT    set HTML table tag attributes (e.g., width, border)\n",
      "  -x, --expanded           turn on expanded table output\n",
      "  -z, --field-separator-zero\n",
      "                           set field separator for unaligned output to zero byte\n",
      "  -0, --record-separator-zero\n",
      "                           set record separator for unaligned output to zero byte\n",
      "\n",
      "Connection options:\n",
      "  -h, --host=HOSTNAME      database server host or socket directory (default: \"local socket\")\n",
      "  -p, --port=PORT          database server port (default: \"5432\")\n",
      "  -U, --username=USERNAME  database user name (default: \"roger\")\n",
      "  -w, --no-password        never prompt for password\n",
      "  -W, --password           force password prompt (should happen automatically)\n",
      "\n",
      "For more information, type \"\\?\" (for internal commands) or \"\\help\" (for SQL\n",
      "commands) from within psql, or consult the psql section in the PostgreSQL\n",
      "documentation.\n",
      "\n",
      "Report bugs to <pgsql-bugs@postgresql.org>.\n"
     ]
    }
   ],
   "source": [
    "%%bash\n",
    "psql --help"
   ]
  },
  {
   "cell_type": "code",
   "execution_count": null,
   "metadata": {},
   "outputs": [],
   "source": []
  }
 ],
 "metadata": {
  "kernelspec": {
   "display_name": "Python 3",
   "language": "python",
   "name": "python3"
  },
  "language_info": {
   "codemirror_mode": {
    "name": "ipython",
    "version": 3
   },
   "file_extension": ".py",
   "mimetype": "text/x-python",
   "name": "python",
   "nbconvert_exporter": "python",
   "pygments_lexer": "ipython3",
   "version": "3.5.3"
  }
 },
 "nbformat": 4,
 "nbformat_minor": 2
}
