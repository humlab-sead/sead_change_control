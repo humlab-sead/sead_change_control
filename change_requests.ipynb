{
 "cells": [
  {
   "cell_type": "markdown",
   "metadata": {},
   "source": [
    "#### SEAD Schema Change Requests\n",
    "\n",
    "This notebooks i a log of SEAD schema changes.\n",
    "\n",
    "##### SEAD's 10 Change Commandments\n",
    "\n",
    "1. Thou shalt document and follow the SEAD database change management procedure\n",
    "2. You cannot alter the SEAD schema directly using ad hoc queries.\n",
    "3. Thou shalt have a predictable update procedure of the SEAD database\n",
    "4. Thou shalt ensure that previous database states are recoverable.\n",
    "5. Thou shalt automate the change management processes as much as possible\n",
    "6. Thou shalt have an audit of every change that occur in the database.\n",
    "7. Thou shalt always remember Murphy's law\n",
    "8. Thou shalt alway make idempotent changes.\n",
    "9. \n",
    "\n"
   ]
  },
  {
   "cell_type": "code",
   "execution_count": 7,
   "metadata": {},
   "outputs": [
    {
     "name": "stdout",
     "output_type": "stream",
     "text": [
      "\u001b[1mUsage\u001b[m\n",
      "      sqitch [--etc-path | --help | --man | --version]\n",
      "      sqitch <command> [--chdir <path>] [--no-pager] [--quiet] [--verbose]\n",
      "             [<command-options>] [<args>]\n",
      "\n",
      "\u001b[1mCommon Commands\u001b[m\n",
      "    The most commonly used sqitch commands are:\n",
      "\n",
      "      add        Add a new change to the plan\n",
      "      bundle     Bundle a Sqitch project for distribution\n",
      "      checkout   Revert, checkout another VCS branch, and re-deploy changes\n",
      "      config     Get and set local, user, or system options\n",
      "      deploy     Deploy changes to a database\n",
      "      engine     Manage database engine configuration\n",
      "      help       Display help information about Sqitch commands\n",
      "      init       Initialize a project\n",
      "      log        Show change logs for a database\n",
      "      plan       Show the contents of a plan\n",
      "      rebase     Revert and redeploy database changes\n",
      "      revert     Revert changes from a database\n",
      "      rework     Duplicate a change in the plan and revise its scripts\n",
      "      show       Show information about changes and tags, or change script contents\n",
      "      status     Show the current deployment status of a database\n",
      "      tag        Add or list tags in the plan\n",
      "      target     Manage target database configuration\n",
      "      upgrade    Upgrade the registry to the current version\n",
      "      verify     Verify changes to a database\n",
      "\n",
      "    See \"sqitch help <command>\" or \"sqitch help <concept>\" to read about a\n",
      "    specific command or concept. See \"sqitch help --guide\" for a list of\n",
      "    conceptual guides.\n",
      "\n"
     ]
    },
    {
     "name": "stderr",
     "output_type": "stream",
     "text": [
      "stty: 'standard input': Inappropriate ioctl for device\n"
     ]
    }
   ],
   "source": [
    "%%bash\n",
    "sqitch --help"
   ]
  },
  {
   "cell_type": "markdown",
   "metadata": {},
   "source": [
    "#### <span style='color: green'>ADMIN </span> CONVERT_SEQUENCES_TO_SERIAL <span style='float: right; color: green'>PENDING</span>\n",
    "\n",
    "```\n",
    "Change request ID       CONVERT_SEQUENCES_TO_SERIAL\n",
    "Change request tag      \n",
    "Change origin\n",
    "Description             Resets all sequences to MAX value of parent column\n",
    "Motivation              Use whenever sequences are out-of-sync\n",
    "Dependencies\n",
    "Timestamp\n",
    "Rollback                N/A\n",
    "Commited\n",
    "Idempotent              YES\n",
    "```"
   ]
  },
  {
   "cell_type": "code",
   "execution_count": 7,
   "metadata": {},
   "outputs": [],
   "source": [
    "%%bash\n",
    "\n",
    "# sqitch add convert_sequences_to_serial -n 'Assign an \"owned by\" column to all public sequences'\n"
   ]
  },
  {
   "cell_type": "markdown",
   "metadata": {},
   "source": [
    "#### <span style='color: green'>ADMIN </span> ADMIN_SYNC_ALL_SEQUENCES <span style='float: right; color: green'>PENDING</span>\n",
    "\n",
    "```\n",
    "Change request ID       ADMIN_SYNC_ALL_SEQUENCES\n",
    "Change request tag      \n",
    "Change origin\n",
    "Description             Resets all sequences to MAX value of parent column\n",
    "Motivation              Use whenever sequences are out-of-sync\n",
    "Dependencies\n",
    "Timestamp\n",
    "Rollback                N/A\n",
    "Commited\n",
    "Idempotent              YES\n",
    "```"
   ]
  },
  {
   "cell_type": "code",
   "execution_count": 6,
   "metadata": {},
   "outputs": [
    {
     "name": "stdout",
     "output_type": "stream",
     "text": [
      "Created deploy/ADMIN_SYNC_ALL_SEQUENCES.sql\n",
      "Created revert/ADMIN_SYNC_ALL_SEQUENCES.sql\n",
      "Created verify/ADMIN_SYNC_ALL_SEQUENCES.sql\n",
      "Added \"ADMIN_SYNC_ALL_SEQUENCES\" to sqitch.plan\n"
     ]
    }
   ],
   "source": [
    "%%bash\n",
    "\n",
    "#sqitch add ADMIN_SYNC_ALL_SEQUENCES -n 'Resets all sequences to MAX value of parent column'\n"
   ]
  },
  {
   "cell_type": "markdown",
   "metadata": {},
   "source": [
    "#### <span style='color: green'>ADMIN </span> CONVERT_SEQUENCES_TO_SERIAL <span style='float: right; color: green'>PENDING</span>\n",
    "\n",
    "```\n",
    "Change request ID       CONVERT_SEQUENCES_TO_SERIAL\n",
    "Change request tag      \n",
    "Change origin\n",
    "Description             Resets all sequences to MAX value of parent column\n",
    "Motivation              Use whenever sequences are out-of-sync\n",
    "Dependencies\n",
    "Timestamp\n",
    "Rollback                N/A\n",
    "Commited\n",
    "Idempotent              YES\n",
    "```"
   ]
  },
  {
   "cell_type": "code",
   "execution_count": 14,
   "metadata": {},
   "outputs": [],
   "source": [
    "%%bash\n",
    "# sqitch add CREATE_UTILITY_SCHEMA -n 'Schema for DB global utility objects'\n",
    "# sqitch add --change-name CREATE_TABLE_DEPENDENCY_VIEW --requires CREATE_UTILITY_SCHEMA --note 'View that returns table inter-dependencies'\n",
    "# sqitch add CONVERT_SEQUENCES_TO_SERIAL -n 'Assign an \"owned by\" column to all public sequences'\n",
    "# sqitch add SEAD_CR_00001_REFACTOR_BIBLIO -n 'Refactor bibliographic data to a more simple model. '\n",
    "# sqitch add ADD_UUID_SUPPORT --note 'Add UUID extension'\n",
    "#sqitch add CSA_20180613_DEPLOY_AUDIT_SYSTEM --note 'https://github.com/2ndQuadrant/audit-trigger'\n",
    "\n",
    "\n",
    "# sqitch add CSR_20180521_ADD_DENDROCHRONOLOGY_DATING --note 'Schema adaptations to dendrochronology datasets'\n",
    "# sqitch add CSD_20180521_ADD_DENDROCHRONOLOGY_DATING_DATA --note 'Add dendrochronology lookup data'\n",
    "\n",
    "#sqitch add CSA_20180501_GENERATE_REST_API_SCHEMA --note 'Schema used by PostgREST REST API publication of SEAD base tables'\n",
    "#sqitch add CSA_20180501_GENERATE_REST_API_SAMPLE_AGE_RANGES --note 'Views (site_sample_taxon_abundance and sample_age_ranges) published via REST API'\n",
    "#sqitch add CSA_20180607_ALTER_SAMPLE_GROUP_SAMPLING_CONTEXT --note 'Change type of tbl_sample_group_sampling_contexts.sampling_context'\n",
    "#sqitch add CSD_20190408_UPDATE_LOCATION_3804 --note 'Update name on location 3804'\n",
    "#sqitch add CSR_20190408_ALTER_DENDRO_DATES_ALLOW_NULL --note 'Allow NULL values in tbl_dendro_dates.error_uncertainty_id'\n",
    "#sqitch add CSR_20190408_ALTER_TYPE_PHYSICAL_SAMPLES_DATE_SAMPLED --note 'Alter tbl_physical_samples.date_sampled to timestamp with time zone'\n",
    "\n",
    "#sqitch add CSR_20190408_CREATE_TABLE_CERAMICS_LOOKUP --note 'Add new lookup table for ceramics data'\n",
    "#sqitch add CSR_20190408_ALTER_TYPE_ECOCODE_GROUPS --note 'Alter type for columns name, abbreviation'\n",
    "#sqitch add CSR_20190408_REFACTOR_RELATIVE_DATES_RELATION --note 'Alter FK from physical_sample_id to analysis_entity_id'\n",
    "#sqitch add CSR_20190408_REFACTOR_SAMPLE_LOCATION_TYPE_SAMPLING_CONTEXT --note 'Add sequence default to keys'\n",
    "#sqitch add CSR_20190408_REFACTOR_PROJECT_STAGES --note 'Add sequence default to key'\n",
    "#sqitch add CSR_20190408_REFACTOR_SAMPLE_COORDINATES --note 'Add sequence default to key'\n",
    "#sqitch add CSR_20190408_REFACTOR_SPECIES_ASSOCIATION_TYPES --note 'Add sequence default to key'\n",
    "#sqitch add CSR_20190408_REFACTOR_CHRONOLOGIES --note 'Allow relation to multiple sample groups'\n",
    "# --- sqitch add CSR_20190408_REFACTOR_RELATIVE_AGES --note 'Alter name of column abbrevation'\n",
    "#sqitch add CSR_20190408_CREATE_TABLE_DATASET_METHODS --note 'Add new table'\n",
    "\n",
    "# NEW naming scheme starts here"
   ]
  },
  {
   "cell_type": "code",
   "execution_count": 6,
   "metadata": {},
   "outputs": [
    {
     "name": "stdout",
     "output_type": "stream",
     "text": [
      "Created deploy/CS_DENDRO_20190520_CREATE_DENDRO_LOOKUP.sql\n",
      "Created revert/CS_DENDRO_20190520_CREATE_DENDRO_LOOKUP.sql\n",
      "Created verify/CS_DENDRO_20190520_CREATE_DENDRO_LOOKUP.sql\n",
      "Added \"CS_DENDRO_20190520_CREATE_DENDRO_LOOKUP\" to sqitch.plan\n"
     ]
    }
   ],
   "source": [
    "%%bash\n",
    "sqitch add --change-name CS_DENDRO_20190520_CREATE_DENDRO_LOOKUP --note 'Add lookup table for dendro data'"
   ]
  },
  {
   "cell_type": "code",
   "execution_count": 9,
   "metadata": {},
   "outputs": [
    {
     "name": "stderr",
     "output_type": "stream",
     "text": [
      "UsageError: Cell magic `%%read_sql` not found.\n"
     ]
    }
   ],
   "source": [
    "SELECT uuid_generate_v4();\n",
    "SELECT uuid_generate_v4()::text;\n",
    "#https://www.postgresql.org/docs/9.4/datatype-uuid.html\n",
    "    \n",
    "#CR: add table_uuid for each table_id in the database, set default\n"
   ]
  },
  {
   "cell_type": "code",
   "execution_count": 1,
   "metadata": {},
   "outputs": [
    {
     "name": "stdout",
     "output_type": "stream",
     "text": [
      "Created deploy/CS_SITE_20170911_ANALYSIS_ENTITY_ALTER_AGES_PRECISION.sql\n",
      "Created revert/CS_SITE_20170911_ANALYSIS_ENTITY_ALTER_AGES_PRECISION.sql\n",
      "Created verify/CS_SITE_20170911_ANALYSIS_ENTITY_ALTER_AGES_PRECISION.sql\n",
      "Added \"CS_SITE_20170911_ANALYSIS_ENTITY_ALTER_AGES_PRECISION\" to sqitch.plan\n"
     ]
    }
   ],
   "source": [
    "%%bash\n",
    "sqitch add --change-name CS_SITE_20170911_ANALYSIS_ENTITY_ALTER_AGES_PRECISION --note 'PIB: Changed numeric ranges of values to 20,5 to match tbl_relative_ages'"
   ]
  },
  {
   "cell_type": "code",
   "execution_count": null,
   "metadata": {},
   "outputs": [],
   "source": [
    "%%bash\n",
    "sqitch add --change-name CS_SITE_20180601_ADD_LOCATION_ACCURACY --note 'Accuracy of highest location resolution level.'"
   ]
  },
  {
   "cell_type": "code",
   "execution_count": 2,
   "metadata": {},
   "outputs": [
    {
     "name": "stdout",
     "output_type": "stream",
     "text": [
      "Created deploy/CS_TAXA_20180601_DROP_VIEWS.sql\n",
      "Created revert/CS_TAXA_20180601_DROP_VIEWS.sql\n",
      "Created verify/CS_TAXA_20180601_DROP_VIEWS.sql\n",
      "Added \"CS_TAXA_20180601_DROP_VIEWS\" to sqitch.plan\n"
     ]
    }
   ],
   "source": [
    "%%bash\n",
    "sqitch add --change-name CS_TAXA_20180601_DROP_VIEWS --note 'Drop old views.'"
   ]
  },
  {
   "cell_type": "code",
   "execution_count": 4,
   "metadata": {},
   "outputs": [
    {
     "name": "stdout",
     "output_type": "stream",
     "text": [
      "Created deploy/CS_DEPRECATE_20180601_DROP_RADIOCARBON_CALIBRATION.sql\n",
      "Created revert/CS_DEPRECATE_20180601_DROP_RADIOCARBON_CALIBRATION.sql\n",
      "Created verify/CS_DEPRECATE_20180601_DROP_RADIOCARBON_CALIBRATION.sql\n",
      "Added \"CS_DEPRECATE_20180601_DROP_RADIOCARBON_CALIBRATION\" to sqitch.plan\n"
     ]
    }
   ],
   "source": [
    "%%bash\n",
    "sqitch add --change-name CS_DEPRECATE_20180601_DROP_RADIOCARBON_CALIBRATION --note 'Drop deprecated table.'"
   ]
  },
  {
   "cell_type": "code",
   "execution_count": 5,
   "metadata": {},
   "outputs": [
    {
     "name": "stdout",
     "output_type": "stream",
     "text": [
      "Created deploy/CS_SITE_20180601_ALTER_TYPE.sql\n",
      "Created revert/CS_SITE_20180601_ALTER_TYPE.sql\n",
      "Created verify/CS_SITE_20180601_ALTER_TYPE.sql\n",
      "Added \"CS_SITE_20180601_ALTER_TYPE\" to sqitch.plan\n"
     ]
    }
   ],
   "source": [
    "%%bash\n",
    "sqitch add --change-name CS_SITE_20180601_ALTER_TYPE --note 'Increase length of varchar columns .'"
   ]
  },
  {
   "cell_type": "code",
   "execution_count": 6,
   "metadata": {},
   "outputs": [
    {
     "name": "stdout",
     "output_type": "stream",
     "text": [
      "Created deploy/CS_SAMPLE_20190410_CREATE_INDEX.sql\n",
      "Created revert/CS_SAMPLE_20190410_CREATE_INDEX.sql\n",
      "Created verify/CS_SAMPLE_20190410_CREATE_INDEX.sql\n",
      "Added \"CS_SAMPLE_20190410_CREATE_INDEX\" to sqitch.plan\n"
     ]
    }
   ],
   "source": [
    "%%bash\n",
    "sqitch add --change-name CS_SAMPLE_20190410_CREATE_INDEX --note 'Create index on FK feature_id.'"
   ]
  },
  {
   "cell_type": "code",
   "execution_count": 7,
   "metadata": {},
   "outputs": [
    {
     "name": "stdout",
     "output_type": "stream",
     "text": [
      "Created deploy/CS_TAXA_20190410_CREATE_VIEW_ALPHABETICALLY.sql\n",
      "Created revert/CS_TAXA_20190410_CREATE_VIEW_ALPHABETICALLY.sql\n",
      "Created verify/CS_TAXA_20190410_CREATE_VIEW_ALPHABETICALLY.sql\n",
      "Added \"CS_TAXA_20190410_CREATE_VIEW_ALPHABETICALLY\" to sqitch.plan\n"
     ]
    }
   ],
   "source": [
    "%%bash\n",
    "sqitch add --change-name CS_TAXA_20190410_CREATE_VIEW_ALPHABETICALLY --note 'Create taxa helper view.'\n"
   ]
  },
  {
   "cell_type": "code",
   "execution_count": 8,
   "metadata": {},
   "outputs": [
    {
     "name": "stdout",
     "output_type": "stream",
     "text": [
      "Created deploy/CS_COMMENTS_20190410_UPDATE_COMMENTS.sql\n",
      "Created revert/CS_COMMENTS_20190410_UPDATE_COMMENTS.sql\n",
      "Created verify/CS_COMMENTS_20190410_UPDATE_COMMENTS.sql\n",
      "Added \"CS_COMMENTS_20190410_UPDATE_COMMENTS\" to sqitch.plan\n"
     ]
    }
   ],
   "source": [
    "%%bash\n",
    "sqitch add --change-name CS_COMMENTS_20190410_UPDATE_COMMENTS --note 'Comment diffs on table/columns with respect to sead_master_8.'\n"
   ]
  },
  {
   "cell_type": "code",
   "execution_count": 3,
   "metadata": {},
   "outputs": [
    {
     "name": "stdout",
     "output_type": "stream",
     "text": [
      "Created deploy/CS_RELATIVE_DATING_20190410_RENAME_COLUMN.sql\n",
      "Created revert/CS_RELATIVE_DATING_20190410_RENAME_COLUMN.sql\n",
      "Created verify/CS_RELATIVE_DATING_20190410_RENAME_COLUMN.sql\n",
      "Added \"CS_RELATIVE_DATING_20190410_RENAME_COLUMN\" to sqitch.plan\n"
     ]
    }
   ],
   "source": [
    "%%bash\n",
    "sqitch add --change-name CS_RELATIVE_DATING_20190410_RENAME_COLUMN --note 'Rename column from abbreviation' -C ./general"
   ]
  },
  {
   "cell_type": "code",
   "execution_count": 1,
   "metadata": {},
   "outputs": [
    {
     "name": "stdout",
     "output_type": "stream",
     "text": [
      "Created deploy/CS_UTILITY_20190411_ENABLE_TABLEFUNC.sql\n",
      "Created revert/CS_UTILITY_20190411_ENABLE_TABLEFUNC.sql\n",
      "Created verify/CS_UTILITY_20190411_ENABLE_TABLEFUNC.sql\n",
      "Added \"CS_UTILITY_20190411_ENABLE_TABLEFUNC\" to sqitch.plan\n"
     ]
    }
   ],
   "source": [
    "%%bash\n",
    "sqitch add --change-name CS_UTILITY_20190411_ENABLE_TABLEFUNC --note 'Enable table_func' -C ./utility"
   ]
  },
  {
   "cell_type": "code",
   "execution_count": 2,
   "metadata": {},
   "outputs": [
    {
     "name": "stdout",
     "output_type": "stream",
     "text": [
      "Created deploy/CS_UTILITY_20190411_ENABLE_PGCRYPTO.sql\n",
      "Created revert/CS_UTILITY_20190411_ENABLE_PGCRYPTO.sql\n",
      "Created verify/CS_UTILITY_20190411_ENABLE_PGCRYPTO.sql\n",
      "Added \"CS_UTILITY_20190411_ENABLE_PGCRYPTO\" to sqitch.plan\n"
     ]
    }
   ],
   "source": [
    "%%bash\n",
    "sqitch add --change-name CS_UTILITY_20190411_ENABLE_PGCRYPTO --note 'Enable pgcrypt' -C ./utility"
   ]
  },
  {
   "cell_type": "code",
   "execution_count": 3,
   "metadata": {},
   "outputs": [
    {
     "name": "stdout",
     "output_type": "stream",
     "text": [
      "Created deploy/CS_ECOCODE_20190411_RENAME_COLUMNS.sql\n",
      "Created revert/CS_ECOCODE_20190411_RENAME_COLUMNS.sql\n",
      "Created verify/CS_ECOCODE_20190411_RENAME_COLUMNS.sql\n",
      "Added \"CS_ECOCODE_20190411_RENAME_COLUMNS\" to sqitch.plan\n"
     ]
    }
   ],
   "source": [
    "%%bash\n",
    "sqitch add --change-name CS_ECOCODE_20190411_RENAME_COLUMNS --note 'Rename ecocode columns' -C ./general"
   ]
  },
  {
   "cell_type": "code",
   "execution_count": 4,
   "metadata": {},
   "outputs": [
    {
     "name": "stdout",
     "output_type": "stream",
     "text": [
      "Created deploy/CS_META_20190411_VIEW_UPDATES.sql\n",
      "Created revert/CS_META_20190411_VIEW_UPDATES.sql\n",
      "Created verify/CS_META_20190411_VIEW_UPDATES.sql\n",
      "Added \"CS_META_20190411_VIEW_UPDATES\" to sqitch.plan\n"
     ]
    }
   ],
   "source": [
    "%%bash\n",
    "sqitch add --change-name CS_META_20190411_VIEW_UPDATES --note 'Deprecate some views' -C ./general"
   ]
  },
  {
   "cell_type": "code",
   "execution_count": null,
   "metadata": {},
   "outputs": [],
   "source": [
    "%%bash\n",
    "sqitch add --change-name CS_META__20190411_VIEW_UPDATES --note 'Deprecate some views' -C ./general/"
   ]
  },
  {
   "cell_type": "code",
   "execution_count": 5,
   "metadata": {},
   "outputs": [
    {
     "name": "stdout",
     "output_type": "stream",
     "text": [
      "Created deploy/CS_REPORT__20190411_LANDING_PAGE_FUNCTIONS.sql\n",
      "Created revert/CS_REPORT__20190411_LANDING_PAGE_FUNCTIONS.sql\n",
      "Created verify/CS_REPORT__20190411_LANDING_PAGE_FUNCTIONS.sql\n",
      "Added \"CS_REPORT__20190411_LANDING_PAGE_FUNCTIONS\" to sqitch.plan\n"
     ]
    }
   ],
   "source": [
    "%%bash\n",
    "sqitch add --change-name CS_REPORT__20190411_LANDING_PAGE_FUNCTIONS --note 'Landinng page report functions' -C ./report/"
   ]
  },
  {
   "cell_type": "code",
   "execution_count": 6,
   "metadata": {},
   "outputs": [
    {
     "name": "stdout",
     "output_type": "stream",
     "text": [
      "Created deploy/CS_SAMPLE__20190411_ASSIGN_SEQUENCE.sql\n",
      "Created revert/CS_SAMPLE__20190411_ASSIGN_SEQUENCE.sql\n",
      "Created verify/CS_SAMPLE__20190411_ASSIGN_SEQUENCE.sql\n",
      "Added \"CS_SAMPLE__20190411_ASSIGN_SEQUENCE\" to sqitch.plan\n"
     ]
    }
   ],
   "source": [
    "%%bash\n",
    "sqitch add --change-name CS_SAMPLE__20190411_ASSIGN_SEQUENCE --note 'Assign sequence as default' -C ./general/"
   ]
  },
  {
   "cell_type": "code",
   "execution_count": null,
   "metadata": {},
   "outputs": [],
   "source": []
  }
 ],
 "metadata": {
  "kernelspec": {
   "display_name": "Python 3",
   "language": "python",
   "name": "python3"
  },
  "language_info": {
   "codemirror_mode": {
    "name": "ipython",
    "version": 3
   },
   "file_extension": ".py",
   "mimetype": "text/x-python",
   "name": "python",
   "nbconvert_exporter": "python",
   "pygments_lexer": "ipython3",
   "version": "3.5.3"
  }
 },
 "nbformat": 4,
 "nbformat_minor": 2
}
