{
 "cells": [
  {
   "cell_type": "code",
   "execution_count": 37,
   "metadata": {},
   "outputs": [],
   "source": [
    "%%python\n",
    "password = 'Vua9VagZ'"
   ]
  },
  {
   "cell_type": "code",
   "execution_count": 38,
   "metadata": {},
   "outputs": [],
   "source": [
    "%defaultDatasource jdbc:postgresql://snares.humlab.umu.se:5432/sead_dev_sclearinghouse?user=humlab_admin&password=123455"
   ]
  },
  {
   "cell_type": "code",
   "execution_count": 28,
   "metadata": {},
   "outputs": [],
   "source": [
    "COPY (\n",
    "    SELECT * FROM tbl_ecocode_systems WHERE ecocode_system_id = 2\n",
    ")\n",
    "    TO '/tmp/tbl_ecocode_systems_2.csv'\n",
    "        WITH (FORMAT csv, ENCODING 'utf8');\n",
    "        \n",
    "COPY (\n",
    "    SELECT * FROM tbl_ecocode_groups WHERE ecocode_group_id = 2\n",
    ")\n",
    "        TO '/tmp/tbl_ecocode_groups_2.csv'\n",
    "            WITH (FORMAT csv, ENCODING 'utf8');\n",
    "\n",
    "COPY (\n",
    "    SELECT tbl_ecocode_definitions.*\n",
    "    FROM tbl_ecocode_definitions\n",
    "    JOIN tbl_ecocode_groups using (ecocode_group_id)\n",
    "    WHERE tbl_ecocode_groups.ecocode_system_id = 2\n",
    ")\n",
    "    TO '/tmp/tbl_ecocode_definitions_2.csv'\n",
    "        WITH (FORMAT csv, ENCODING 'utf8');\n",
    "\n",
    "COPY (\n",
    "    SELECT tbl_ecocodes.*\n",
    "    FROM tbl_ecocodes\n",
    "    JOIN tbl_ecocode_definitions using (ecocode_definition_id)\n",
    "    JOIN tbl_ecocode_groups using (ecocode_group_id)\n",
    "    WHERE tbl_ecocode_groups.ecocode_system_id = 2\n",
    ")\n",
    "    TO '/tmp/tbl_ecocode_ecocodes_2.csv'\n",
    "        WITH (FORMAT csv, ENCODING 'utf8');\n",
    "     \n",
    "     \n",
    "COPY (\n",
    "    SELECT * FROM tbl_ecocode_systems WHERE ecocode_system_id = 3\n",
    ")\n",
    "    TO '/tmp/tbl_ecocode_systems_3.csv'\n",
    "        WITH (FORMAT csv, ENCODING 'utf8');\n",
    "\n",
    "COPY (\n",
    "    SELECT * FROM tbl_ecocode_groups WHERE ecocode_group_id = 3\n",
    ")\n",
    "        TO '/tmp/tbl_ecocode_groups_3.csv'\n",
    "            WITH (FORMAT csv, ENCODING 'utf8');\n",
    "\n",
    "COPY (\n",
    "    SELECT tbl_ecocode_definitions.*\n",
    "    FROM tbl_ecocode_definitions\n",
    "    JOIN tbl_ecocode_groups using (ecocode_group_id)\n",
    "    WHERE tbl_ecocode_groups.ecocode_system_id = 3\n",
    ")\n",
    "    TO '/tmp/tbl_ecocode_definitions_3.csv'\n",
    "        WITH (FORMAT csv, ENCODING 'utf8');\n",
    "\n",
    "COPY (\n",
    "    SELECT tbl_ecocodes.*\n",
    "    FROM tbl_ecocodes\n",
    "    JOIN tbl_ecocode_definitions using (ecocode_definition_id)\n",
    "    JOIN tbl_ecocode_groups using (ecocode_group_id)\n",
    "    WHERE tbl_ecocode_groups.ecocode_system_id = 3\n",
    ")\n",
    "    TO '/tmp/tbl_ecocode_ecocodes_3.csv'\n",
    "        WITH (FORMAT csv, ENCODING 'utf8');\n",
    "     "
   ]
  },
  {
   "cell_type": "code",
   "execution_count": 1,
   "metadata": {},
   "outputs": [],
   "source": [
    "%defaultDatasource jdbc:postgresql://snares.humlab.umu.se:5432/sead_dev_clearinghouse?user=humlab_admin&password=Vua9VagZ"
   ]
  },
  {
   "cell_type": "code",
   "execution_count": 5,
   "metadata": {},
   "outputs": [
    {
     "data": {
      "application/vnd.jupyter.widget-view+json": {
       "model_id": "6128cdf1-84e2-4979-914c-9e41b3f2bf15",
       "version_major": 2,
       "version_minor": 0
      },
      "method": "display_data"
     },
     "metadata": {},
     "output_type": "display_data"
    }
   ],
   "source": [
    "select * from clearing_house.tbl_sites"
   ]
  },
  {
   "cell_type": "code",
   "execution_count": 7,
   "metadata": {},
   "outputs": [
    {
     "data": {
      "application/vnd.jupyter.widget-view+json": {
       "model_id": "cdff1f5f-3d06-4a14-8edf-26533e452586",
       "version_major": 2,
       "version_minor": 0
      },
      "method": "display_data"
     },
     "metadata": {},
     "output_type": "display_data"
    }
   ],
   "source": [
    "select *\n",
    "from clearing_house.fn_dba_get_sead_public_db_schema()\n",
    "where is_pk = 'NO'\n",
    "  and is_fk = 'NO'\n",
    "  and column_name like '%_id'\n",
    "order by 2, 3"
   ]
  },
  {
   "cell_type": "code",
   "execution_count": 13,
   "metadata": {},
   "outputs": [
    {
     "data": {
      "text/plain": [
       "13"
      ]
     },
     "execution_count": 13,
     "metadata": {},
     "output_type": "execute_result"
    }
   ],
   "source": [
    "select count(*) from tbl_relative_age_types"
   ]
  },
  {
   "cell_type": "code",
   "execution_count": null,
   "metadata": {},
   "outputs": [],
   "source": []
  }
 ],
 "metadata": {
  "kernelspec": {
   "display_name": "SQL",
   "language": "SQL",
   "name": "sql"
  },
  "language_info": {
   "codemirror_mode": "sql",
   "file_extension": ".sql",
   "mimetype": "",
   "name": "SQL",
   "nbconverter_exporter": "",
   "version": ""
  }
 },
 "nbformat": 4,
 "nbformat_minor": 2
}
