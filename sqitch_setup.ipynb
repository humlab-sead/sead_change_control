{
 "cells": [
  {
   "cell_type": "markdown",
   "metadata": {},
   "source": [
    "### Install Sqitch Docker image\n",
    "\n",
    "Install Sqitch:\n",
    "```bash\n",
    "sudo docker pull sqitch/sqitch\n",
    "sudo curl -L https://git.io/fAX6Z -o sqitch && chmod +x sqitch\n",
    "sudo cp sqitch /usr/local/bin\n",
    "```\n",
    "\n",
    "Allow current user to run docker:\n",
    "\n",
    "```bash\n",
    "sudo groupadd docker\n",
    "sudo gpasswd -a $USER docker\n",
    "sqitch --version\n",
    "```\n",
    "\n",
    "### Install Sqitch system-wide using cpan\n",
    "\n",
    "This is used since docker install gives problems with permissions (runs under \"sqitch\" user in docker).\n",
    "```bash\n",
    "sudo apt-get install build-essential cpanminus perl perl-doc\n",
    "sudo cpanm --quiet --notest App::Sqitch\n",
    "sqitch --version\n",
    "```\n",
    "\n",
    "### Setup git project\n",
    "\n",
    "```bash\n",
    "mkdir sead_db_change_control\n",
    "cd sead_db_change_control\n",
    "git init .\n",
    "touch README.md\n",
    "git add .\n",
    "git commit -am \"SEAD db change control project inititalized\"\n",
    "```\n",
    "\n",
    "### Setup Sqitch project\n",
    "\n",
    "```bash\n",
    "sqitch init sead_db_change_control --uri https://github.com/humlab-sead/sead_db_change_control --engine pg\n",
    "sqitch config --user engine.pg.client /usr/bin/psql\n",
    "```\n"
   ]
  },
  {
   "cell_type": "code",
   "execution_count": null,
   "metadata": {},
   "outputs": [],
   "source": [
    "mkdir clearinghouse\n",
    "sqitch init clearinghouse --uri https://github.com/humlab-sead/clearinghouse --engine pg --top_dir ./clearinghouse --plan-file clearinghouse.plan\n"
   ]
  },
  {
   "cell_type": "code",
   "execution_count": 4,
   "metadata": {},
   "outputs": [
    {
     "name": "stdout",
     "output_type": "stream",
     "text": [
      "Created sqitch.conf\n",
      "Created sqitch.plan\n",
      "Created deploy/\n",
      "Created revert/\n",
      "Created verify/\n"
     ]
    }
   ],
   "source": [
    "%%bash\n",
    "#sqitch init report --uri https://github.com/humlab-sead/report --engine pg -C ./report\n",
    "mkdir sead_api\n",
    "sqitch init sead_api --uri https://github.com/humlab-sead/sead-api --engine pg -C sead_api"
   ]
  },
  {
   "cell_type": "markdown",
   "metadata": {},
   "source": [
    "### Setup global defaults for user\n",
    "These settings are global user settings specific for each computing environment."
   ]
  },
  {
   "cell_type": "code",
   "execution_count": null,
   "metadata": {},
   "outputs": [],
   "source": [
    "%%bash\n",
    "sqitch config --user engine.pg.client /usr/bin/psql\n",
    "sqitch config --user user.name 'Roger Mähler'\n",
    "sqitch config --user user.email 'roger.mahler@umu.se'"
   ]
  },
  {
   "cell_type": "markdown",
   "metadata": {},
   "source": [
    "### Setup default user templates\n",
    "These settings are global user settings specific for each computing environment."
   ]
  },
  {
   "cell_type": "code",
   "execution_count": null,
   "metadata": {},
   "outputs": [],
   "source": [
    "%%bash\n",
    "\n",
    "mkdir -p ~/.sqitch/templates/deploy\n",
    "mkdir -p ~/.sqitch/templates/revert \n",
    "mkdir -p ~/.sqitch/templates/verify\n",
    "\n",
    "tmpldir=`sqitch --etc-path`/templates\n",
    "\n",
    "cp $tmpldir/deploy/pg.tmpl ~/.sqitch/templates/deploy/pg.tmpl\n",
    "cp $tmpldir/revert/pg.tmpl ~/.sqitch/templates/revert/pg.tmpl\n",
    "cp $tmpldir/verify/pg.tmpl ~/.sqitch/templates/verify/pg.tmpl\n",
    "\n",
    "chmod -R +w ~/.sqitch/templates\n"
   ]
  },
  {
   "cell_type": "markdown",
   "metadata": {},
   "source": [
    "### Changfe default 'pg' template\n",
    "These settings are global user settings specific for each computing environment."
   ]
  },
  {
   "cell_type": "code",
   "execution_count": null,
   "metadata": {},
   "outputs": [],
   "source": [
    "%%file  ~/.sqitch/templates/deploy/pg.tmpl\n",
    "-- Deploy [% project %]:[% change %] to [% engine %]\n",
    "[% FOREACH item IN requires -%]\n",
    "-- requires: [% item %]\n",
    "[% END -%]\n",
    "[% FOREACH item IN conflicts -%]\n",
    "-- conflicts: [% item %]\n",
    "[% END -%]\n",
    "\n",
    "/****************************************************************************************************************\n",
    "  Author        Roger Mähler\n",
    "  Date          2019-01-01\n",
    "  Description   \n",
    "  Prerequisites \n",
    "  Reviewer      \n",
    "  Approver      \n",
    "  Idempotent    Yes\n",
    "  Notes\n",
    "*****************************************************************************************************************/\n",
    "\n",
    "begin;\n",
    "do $$\n",
    "begin\n",
    "\n",
    "    begin\n",
    "    \n",
    "        if sead_utility.column_exists('public'::text, 'table_name'::text, 'column_name'::text) = TRUE then\n",
    "            raise exception SQLSTATE 'GUARD';\n",
    "        end if;\n",
    "        \n",
    "        -- insert your DDL code here\n",
    "        \n",
    "    exception when sqlstate 'GUARD' then\n",
    "        raise notice 'ALREADY EXECUTED';\n",
    "    end;\n",
    "    \n",
    "end $$;\n",
    "commit;\n"
   ]
  },
  {
   "cell_type": "markdown",
   "metadata": {},
   "source": [
    "#### Install PostgreSQL Kernel\n",
    "```bash\n",
    "sudo pip3 install postgres_kernel\n",
    "```"
   ]
  },
  {
   "cell_type": "code",
   "execution_count": 1,
   "metadata": {},
   "outputs": [
    {
     "name": "stdout",
     "output_type": "stream",
     "text": [
      "pg_dump dumps a database as a text file or to other formats.\n",
      "\n",
      "Usage:\n",
      "  pg_dump [OPTION]... [DBNAME]\n",
      "\n",
      "General options:\n",
      "  -f, --file=FILENAME          output file or directory name\n",
      "  -F, --format=c|d|t|p         output file format (custom, directory, tar,\n",
      "                               plain text (default))\n",
      "  -j, --jobs=NUM               use this many parallel jobs to dump\n",
      "  -v, --verbose                verbose mode\n",
      "  -V, --version                output version information, then exit\n",
      "  -Z, --compress=0-9           compression level for compressed formats\n",
      "  --lock-wait-timeout=TIMEOUT  fail after waiting TIMEOUT for a table lock\n",
      "  -?, --help                   show this help, then exit\n",
      "\n",
      "Options controlling the output content:\n",
      "  -a, --data-only              dump only the data, not the schema\n",
      "  -b, --blobs                  include large objects in dump\n",
      "  -c, --clean                  clean (drop) database objects before recreating\n",
      "  -C, --create                 include commands to create database in dump\n",
      "  -E, --encoding=ENCODING      dump the data in encoding ENCODING\n",
      "  -n, --schema=SCHEMA          dump the named schema(s) only\n",
      "  -N, --exclude-schema=SCHEMA  do NOT dump the named schema(s)\n",
      "  -o, --oids                   include OIDs in dump\n",
      "  -O, --no-owner               skip restoration of object ownership in\n",
      "                               plain-text format\n",
      "  -s, --schema-only            dump only the schema, no data\n",
      "  -S, --superuser=NAME         superuser user name to use in plain-text format\n",
      "  -t, --table=TABLE            dump the named table(s) only\n",
      "  -T, --exclude-table=TABLE    do NOT dump the named table(s)\n",
      "  -x, --no-privileges          do not dump privileges (grant/revoke)\n",
      "  --binary-upgrade             for use by upgrade utilities only\n",
      "  --column-inserts             dump data as INSERT commands with column names\n",
      "  --disable-dollar-quoting     disable dollar quoting, use SQL standard quoting\n",
      "  --disable-triggers           disable triggers during data-only restore\n",
      "  --enable-row-security        enable row security (dump only content user has\n",
      "                               access to)\n",
      "  --exclude-table-data=TABLE   do NOT dump data for the named table(s)\n",
      "  --if-exists                  use IF EXISTS when dropping objects\n",
      "  --inserts                    dump data as INSERT commands, rather than COPY\n",
      "  --no-security-labels         do not dump security label assignments\n",
      "  --no-synchronized-snapshots  do not use synchronized snapshots in parallel jobs\n",
      "  --no-tablespaces             do not dump tablespace assignments\n",
      "  --no-unlogged-table-data     do not dump unlogged table data\n",
      "  --quote-all-identifiers      quote all identifiers, even if not key words\n",
      "  --section=SECTION            dump named section (pre-data, data, or post-data)\n",
      "  --serializable-deferrable    wait until the dump can run without anomalies\n",
      "  --snapshot=SNAPSHOT          use given snapshot for the dump\n",
      "  --strict-names               require table and/or schema include patterns to\n",
      "                               match at least one entity each\n",
      "  --use-set-session-authorization\n",
      "                               use SET SESSION AUTHORIZATION commands instead of\n",
      "                               ALTER OWNER commands to set ownership\n",
      "\n",
      "Connection options:\n",
      "  -d, --dbname=DBNAME      database to dump\n",
      "  -h, --host=HOSTNAME      database server host or socket directory\n",
      "  -p, --port=PORT          database server port number\n",
      "  -U, --username=NAME      connect as specified database user\n",
      "  -w, --no-password        never prompt for password\n",
      "  -W, --password           force password prompt (should happen automatically)\n",
      "  --role=ROLENAME          do SET ROLE before dump\n",
      "\n",
      "If no database name is supplied, then the PGDATABASE environment\n",
      "variable value is used.\n",
      "\n",
      "Report bugs to <pgsql-bugs@postgresql.org>.\n"
     ]
    }
   ],
   "source": [
    "%%bash\n",
    "pg_dump --help"
   ]
  },
  {
   "cell_type": "code",
   "execution_count": 3,
   "metadata": {},
   "outputs": [
    {
     "name": "stderr",
     "output_type": "stream",
     "text": [
      "pg_dump: last built-in OID is 16383\n",
      "pg_dump: reading extensions\n",
      "pg_dump: identifying extension members\n",
      "pg_dump: reading schemas\n",
      "pg_dump: reading user-defined tables\n",
      "pg_dump: reading user-defined functions\n",
      "pg_dump: reading user-defined types\n",
      "pg_dump: reading procedural languages\n",
      "pg_dump: reading user-defined aggregate functions\n",
      "pg_dump: reading user-defined operators\n",
      "pg_dump: reading user-defined access methods\n",
      "pg_dump: reading user-defined operator classes\n",
      "pg_dump: reading user-defined operator families\n",
      "pg_dump: reading user-defined text search parsers\n",
      "pg_dump: reading user-defined text search templates\n",
      "pg_dump: reading user-defined text search dictionaries\n",
      "pg_dump: reading user-defined text search configurations\n",
      "pg_dump: reading user-defined foreign-data wrappers\n",
      "pg_dump: reading user-defined foreign servers\n",
      "pg_dump: reading default privileges\n",
      "pg_dump: reading user-defined collations\n",
      "pg_dump: reading user-defined conversions\n",
      "pg_dump: reading type casts\n",
      "pg_dump: reading transforms\n",
      "pg_dump: reading table inheritance information\n",
      "pg_dump: reading event triggers\n",
      "pg_dump: finding extension tables\n",
      "pg_dump: finding inheritance relationships\n",
      "pg_dump: reading column info for interesting tables\n",
      "pg_dump: finding the columns and types of table \"humlab_utility.physical_sample_ecocode_abundance\"\n",
      "pg_dump: finding the columns and types of table \"humlab_utility.ecocode_pivot_abundance\"\n",
      "pg_dump: finding the columns and types of table \"humlab_utility.physical_sample_dating\"\n",
      "pg_dump: finding the columns and types of table \"humlab_utility.ecocode_dating\"\n",
      "pg_dump: finding the columns and types of table \"humlab_utility.ecocode_dating_geojson\"\n",
      "pg_dump: flagging inherited columns in subtables\n",
      "pg_dump: reading indexes\n",
      "pg_dump: reading indexes for table \"humlab_utility.physical_sample_ecocode_abundance\"\n",
      "pg_dump: reading constraints\n",
      "pg_dump: reading triggers\n",
      "pg_dump: reading rewrite rules\n",
      "pg_dump: reading policies\n",
      "pg_dump: reading dependency data\n",
      "pg_dump: saving encoding = UTF8\n",
      "pg_dump: saving standard_conforming_strings = on\n",
      "pg_dump: saving search_path = \n",
      "pg_dump: creating SCHEMA \"humlab_utility\"\n",
      "pg_dump: creating TYPE \"humlab_utility.ecocode_crosstab_cols\"\n",
      "pg_dump: creating FUNCTION \"humlab_utility.crosstab_ecocode(text)\"\n",
      "pg_dump: creating VIEW \"humlab_utility.ecocode_pivot_abundance\"\n",
      "pg_dump: creating VIEW \"humlab_utility.physical_sample_dating\"\n",
      "pg_dump: creating VIEW \"humlab_utility.ecocode_dating\"\n",
      "pg_dump: creating VIEW \"humlab_utility.ecocode_dating_geojson\"\n",
      "pg_dump: creating MATERIALIZED VIEW \"humlab_utility.physical_sample_ecocode_abundance\"\n",
      "pg_dump: creating INDEX \"humlab_utility.idx_physical_sample_ecocode_abundance\"\n",
      "pg_dump: creating MATERIALIZED VIEW DATA \"humlab_utility.physical_sample_ecocode_abundance\"\n"
     ]
    }
   ],
   "source": [
    "%%bash\n",
    "#SEAD_SERVER=`cat ~/.default.sead.server`\n",
    "#SEAD_USERNAME=`cat ~/.default.sead.username`\n",
    "pg_dump --file \"humlab_utility.sql\" --host `cat ~/.default.sead.server` --username `cat  ~/.default.sead.username` --no-password \\\n",
    "    --verbose --format=p --no-owner --no-privileges --no-tablespaces \\\n",
    "    --no-unlogged-table-data --column-inserts --schema \"humlab_utility\" \"sead_bugs_import_20170814\""
   ]
  },
  {
   "cell_type": "code",
   "execution_count": null,
   "metadata": {},
   "outputs": [],
   "source": [
    "import sqlalchemy\n",
    "with open('~/.default.sead.server') as f:\n",
    "    server_name = f.read()\n",
    "with open('~/.default.sead.username') as f:\n",
    "    user_name = f.read()\n",
    "postgres_engine = sqlalchemy.create_engine(\"postgresql://{}:@{}/postgres\".format(user_name, server_name))\n",
    "%load_ext sql_magic\n",
    "%config SQL.conn_name = 'postgres_engine'\n",
    "%config SQL.output_result = False\n",
    "%config SQL.notify_result = True"
   ]
  },
  {
   "cell_type": "code",
   "execution_count": null,
   "metadata": {},
   "outputs": [],
   "source": [
    "%%read_sql df_tables\n",
    "select *\n",
    "from information_schema.databases\n",
    "--where table_schema = 'public'\n",
    "--  and table_type = 'BASE TABLE'"
   ]
  },
  {
   "cell_type": "code",
   "execution_count": null,
   "metadata": {},
   "outputs": [],
   "source": [
    "df_tables"
   ]
  },
  {
   "cell_type": "code",
   "execution_count": null,
   "metadata": {},
   "outputs": [],
   "source": [
    "%%file rename_change.bash\n",
    "#/bin/bash\n",
    "\n",
    "function usage() {\n",
    "    echo \"usage: $0 change-name new-change-name\"\n",
    "    exit 0 \n",
    "}\n",
    "\n",
    "if [ $# != 2 ]; then\n",
    "    usage\n",
    "fi\n",
    "    \n",
    "if [ ! -f ./deploy/$1.sql ]; then\n",
    "    echo \"error: no such change file exists\"\n",
    "    exit 0 \n",
    "fi\n",
    "\n",
    "if [ -f ./deploy/$2.sql ]; then\n",
    "    echo \"error: file exists, chose another name\"\n",
    "    exit 0 \n",
    "fi\n",
    "    \n",
    "mv --force --no-clobber ./deploy/$1.sql ./deploy/$2.sql\n",
    "mv --force --no-clobber ./revert/$1.sql ./revert/$2.sql\n",
    "mv --force --no-clobber ./verify/$1.sql ./verify/$2.sql\n",
    "\n",
    "sed -i 's/$1/$2/g' sqitch.plan\n"
   ]
  },
  {
   "cell_type": "code",
   "execution_count": null,
   "metadata": {},
   "outputs": [],
   "source": [
    "%%bash\n",
    "./rename_change.bash CSR_20190406_REFACTOR_BIBLIOGRAPHIC_MODEL CSR_20170101_REFACTOR_BIBLIOGRAPHIC_MODEL"
   ]
  },
  {
   "cell_type": "markdown",
   "metadata": {},
   "source": [
    "#### Change tag format to \"CS_GROUP_YYYYMMDD_DESCRIPTION\""
   ]
  },
  {
   "cell_type": "code",
   "execution_count": null,
   "metadata": {},
   "outputs": [],
   "source": [
    "import glob\n",
    "import os\n",
    "\n",
    "paths = glob.glob('./deploy/*.sql')\n",
    "files = [ os.path.split(path)[1] for path in paths ]\n",
    "tags = [ os.path.splitext(file)[0] for file in files ]\n",
    "\n",
    "#for folder in [ 'deploy', 'revert', 'verify' ]:\n",
    "#    for tag in tags:\n",
    "#        path = os.path.join('.', folder, tag + '.sql')\n",
    "\n",
    "# [ (tag, tag) for tag in tags ]\n"
   ]
  },
  {
   "cell_type": "code",
   "execution_count": null,
   "metadata": {},
   "outputs": [],
   "source": [
    "import os\n",
    "import shutil\n",
    "\n",
    "tag_renames = [\n",
    "    ('CS_SITE_20170911_ANALYSIS_ENTITY_ALTER_AGES_PRECISION', 'CS_ANALYSIS_ENTITY_20170911_ALTER_AGES_PRECISION')\n",
    "]\n",
    "\n",
    "\n",
    "def replace_tags_in_plan(project, tags, plan_file=\"sqitch.plan\"):\n",
    "    \n",
    "    plan_path = os.path.join('.', project, plan_file)\n",
    "    \n",
    "    with open(plan_path, \"rt\") as f:\n",
    "        plan = f.read()\n",
    "    \n",
    "    for tag_old, tag_new in tags:\n",
    "        \n",
    "        plan = plan.replace(tag_old, tag_new)\n",
    "        \n",
    "        for folder in [ 'deploy', 'revert', 'verify' ]:\n",
    "            path_old = os.path.join('.', project, folder, tag_old + '.sql')\n",
    "            path_new = os.path.join('.', project, folder, tag_new + '.sql')\n",
    "            try:\n",
    "                shutil.move(path_old, path_new)\n",
    "            except:\n",
    "                pass\n",
    "        \n",
    "    with open(plan_path, \"wt\") as f:\n",
    "        f.write(plan)\n",
    "        \n",
    "    \n",
    "replace_tags_in_plan('general', tag_renames)"
   ]
  },
  {
   "cell_type": "code",
   "execution_count": null,
   "metadata": {},
   "outputs": [],
   "source": []
  }
 ],
 "metadata": {
  "kernelspec": {
   "display_name": "Python 3",
   "language": "python",
   "name": "python3"
  },
  "language_info": {
   "codemirror_mode": {
    "name": "ipython",
    "version": 3
   },
   "file_extension": ".py",
   "mimetype": "text/x-python",
   "name": "python",
   "nbconvert_exporter": "python",
   "pygments_lexer": "ipython3",
   "version": "3.5.3"
  }
 },
 "nbformat": 4,
 "nbformat_minor": 2
}
